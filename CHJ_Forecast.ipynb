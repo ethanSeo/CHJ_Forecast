{
 "cells": [
  {
   "cell_type": "code",
   "execution_count": 6,
   "metadata": {
    "collapsed": false
   },
   "outputs": [],
   "source": [
    "import requests\n",
    "import re\n",
    "from collections import OrderedDict\n",
    "import json\n",
    "import matplotlib.pyplot as plt\n",
    "import numpy as np"
   ]
  },
  {
   "cell_type": "code",
   "execution_count": 7,
   "metadata": {
    "collapsed": false
   },
   "outputs": [],
   "source": [
    "# Current Temperature\n",
    "w_now = \"https://api2.sktelecom.com/weather/current/minutely?ver=1&lat=36.5038&lon=127.4166&appKey=84ccae67-8c6b-4269-8b4d-9131c5eae607\"\n",
    "resp = requests.get(w_now).json()\n",
    "NOW_Temp = float(resp[\"weather\"][\"minutely\"][0][\"temperature\"][\"tc\"])\n",
    "NOW_Time = resp[\"weather\"][\"minutely\"][0][\"timeObservation\"]"
   ]
  },
  {
   "cell_type": "code",
   "execution_count": 8,
   "metadata": {
    "collapsed": false
   },
   "outputs": [
    {
     "name": "stdout",
     "output_type": "stream",
     "text": [
      "Max:  [10, 10, 8, 9, 10, 11, 8, 9, 11] 9\n",
      "Min:  [-2, -2, -3, -1, -3, -2, 1, -2, -1] 9\n"
     ]
    }
   ],
   "source": [
    "# 10-Days Temperature Forecast\n",
    "weather10 = \"https://api2.sktelecom.com/weather/forecast/6days?ver=1&lat=36.5038&lon=127.4166&appKey=84ccae67-8c6b-4269-8b4d-9131c5eae607\"\n",
    "response = requests.get(weather10).json()\n",
    "result = response[\"weather\"][\"forecast6days\"][0][\"temperature\"]\n",
    "time0 = response[\"weather\"][\"forecast6days\"][0][\"timeRelease\"]\n",
    "\n",
    "# determinant (Max or Min)\n",
    "p=-1\n",
    "# 2D lists\n",
    "item=[[],[]] #Min&Max Temperature Lists\n",
    "ind=[[],[]]  #INDEX Lists\n",
    "\n",
    "# Sort the result values in order\n",
    "r = OrderedDict(sorted(result.items(), key=lambda t:t[0]))\n",
    "\n",
    "\n",
    "count=0 #count the number of elements\n",
    "\n",
    "for i in range(len(r)):\n",
    "    it = r.popitem()\n",
    "    pattern = re.compile(r'\\d+')\n",
    "    key = it[0]\n",
    "    search = pattern.search(key)\n",
    "    hour = int(search.group(0))\n",
    "    temp = int(it[1])\n",
    "    \n",
    "    # Max of Min determinant i.e \"tmin2day\" or \"tmax2day\"  \n",
    "    p = 0 if key[2] is 'i' else 1\n",
    "\n",
    "    if len(ind[p]) is 0:\n",
    "        ind[p].append(hour)\n",
    "        item[p].append(temp)\n",
    "    else:\n",
    "        j=0\n",
    "        while j<8 and hour > ind[p][j]:\n",
    "            j+=1\n",
    "        ind[p].insert(j, hour)\n",
    "        item[p].insert(j, temp)\n",
    "\n",
    "print(\"Max: \", item[1], len(item[1]))\n",
    "print(\"Min: \", item[0], len(item[0]))"
   ]
  },
  {
   "cell_type": "code",
   "execution_count": 9,
   "metadata": {
    "collapsed": false
   },
   "outputs": [
    {
     "name": "stdout",
     "output_type": "stream",
     "text": [
      "Index:  [4, 7, 10, 13, 16, 19, 22, 25, 28, 31, 34, 37, 40, 43, 46, 49, 52, 55, 58] 19\n",
      "Temp:  [3.0, -1.0, -2.0, -5.0, -6.0, -3.0, 1.0, 4.0, 1.0, -4.0, -6.0, -7.0, -8.0, -3.0, 4.0, 6.0, 3.0, -1.0, -3.0] 19\n"
     ]
    }
   ],
   "source": [
    "# 3-Days Temperature Forecast\n",
    "weather3 = \"https://api2.sktelecom.com/weather/forecast/3days?ver=1&lat=36.5038&lon=127.4166&appKey=84ccae67-8c6b-4269-8b4d-9131c5eae607\"\n",
    "response3 = requests.get(weather3).json()\n",
    "result3 = response3[\"weather\"][\"forecast3days\"][0][\"fcst3hour\"][\"temperature\"]\n",
    "time = response3[\"weather\"][\"forecast3days\"][0][\"timeRelease\"]\n",
    "\n",
    "item3=[] #Temperature List\n",
    "ind3=[] #INDEX List\n",
    "count=0 #count the number of elements\n",
    "\n",
    "for i in range(len(result3)):\n",
    "    it = result3.popitem()\n",
    "    \n",
    "    # KEY\n",
    "    key = it[0]\n",
    "    pattern = re.compile(r'\\d+')\n",
    "    search = pattern.search(key)\n",
    "    \n",
    "    # HOUR\n",
    "    hour = int(search.group(0))\n",
    "    \n",
    "    # if the VALUE is not an Empty String\n",
    "    if it[1] is not '':\n",
    "        temp = float(it[1])\n",
    "        # if the INDEX List is empty, just append the hour&temp to the correct list\n",
    "        if len(ind3) is 0:\n",
    "            ind3.append(hour)\n",
    "            item3.append(temp)\n",
    "            # don't increment count here. \n",
    "        # if the INDEX List is not empty, maneuver the sorted list to find the correct position(j)\n",
    "        else:\n",
    "            j=0\n",
    "            # this sorts everything, even if the returned json is unsorted\n",
    "            while hour > ind3[j]:\n",
    "                j+=1\n",
    "            # insert the hour/temp value at the right position\n",
    "            ind3.insert(j, hour)\n",
    "            item3.insert(j, temp)\n",
    "            count+=1 #start incrementing count from here.\n",
    "            \n",
    "    # if the Value is an Empty String, just skip\n",
    "    else:\n",
    "        continue\n",
    "\n",
    "print(\"Index: \", ind3, len(ind3))\n",
    "print(\"Temp: \", item3, len(item3))"
   ]
  },
  {
   "cell_type": "code",
   "execution_count": 10,
   "metadata": {
    "collapsed": false,
    "scrolled": false
   },
   "outputs": [],
   "source": [
    "# Draw Graph\n",
    "plt.figure(figsize=(10,10))\n",
    "\n",
    "# First Graph\n",
    "plt.subplot(211)\n",
    "plt.title('Cheongju 50+ Hour Forecast: <{0}>'.format(time), fontweight='bold', fontsize='x-large')\n",
    "lowest = min(item3)\n",
    "plt.plot(ind3, item3, \"#617bfb\", label='3 Day Minimum: ({0}\\u2103)'.format(lowest), linewidth=3)\n",
    "plt.legend(shadow=True)\n",
    "plt.xlabel(\"# of Hours Passed\", fontsize='large', fontweight='bold')\n",
    "plt.ylabel(\"Temperature(\\u2103)\", fontsize='large', fontweight='bold')\n",
    "plt.xlim(-6, ind3[count]) # x-axis min/max limits\n",
    "plt.xticks(np.arange(0, ind3[count]+6, 6), fontsize='large')\n",
    "plt.yticks(fontsize='large')\n",
    "plt.grid(linestyle='--')\n",
    "\n",
    "# Annotate \"NOW\"\n",
    "plt.plot(0, NOW_Temp, 'o', color='#ff4253')\n",
    "plt.text(-2, NOW_Temp-2, \"NOW\\n{0}\".format(NOW_Time[11:16]), color='#ff4253', fontweight='bold')\n",
    "\n",
    "# Second Graph\n",
    "plt.subplot(212)\n",
    "plt.title('Cheongju 10 Day Forecast: <{0}>'.format(time0), fontweight='bold', fontsize='x-large')\n",
    "maximum = max(item[1])\n",
    "minimum = min(item[0])\n",
    "plt.plot(ind[1], item[1], '#f86586', label='Temp Max({0}\\u2103)'.format(maximum), linewidth=3)\n",
    "plt.plot(ind[0], item[0], \"#617bfb\", label='Temp Min({0}\\u2103)'.format(minimum), linewidth=3)\n",
    "plt.legend(shadow=True)\n",
    "plt.xlabel(\"# of Days Passed\", fontsize='large', fontweight='bold')\n",
    "plt.ylabel(\"Temperature(\\u2103)\", fontsize='large', fontweight='bold')\n",
    "plt.xticks(np.arange(2, 11), fontsize='large')\n",
    "plt.yticks(fontsize='large')\n",
    "\n",
    "plt.suptitle('Powered by SK Telecom Weather API', color='#fc5f10')\n",
    "\n",
    "#padding\n",
    "plt.tight_layout(pad=4, w_pad=1, h_pad=2)\n",
    "\n",
    "plt.savefig('Forecast_{0}_{1}.png'.format(time[0:10], time[11:13]), dpi=100)\n",
    "# plt.show()"
   ]
  }
 ],
 "metadata": {
  "kernelspec": {
   "display_name": "Python 3",
   "language": "python",
   "name": "python3"
  },
  "language_info": {
   "codemirror_mode": {
    "name": "ipython",
    "version": 3
   },
   "file_extension": ".py",
   "mimetype": "text/x-python",
   "name": "python",
   "nbconvert_exporter": "python",
   "pygments_lexer": "ipython3",
   "version": "3.6.0"
  }
 },
 "nbformat": 4,
 "nbformat_minor": 2
}
