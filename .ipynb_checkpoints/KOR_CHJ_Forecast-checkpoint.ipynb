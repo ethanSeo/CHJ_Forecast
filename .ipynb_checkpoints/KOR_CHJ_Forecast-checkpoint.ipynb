{
 "cells": [
  {
   "cell_type": "code",
   "execution_count": 48,
   "metadata": {
    "collapsed": false
   },
   "outputs": [],
   "source": [
    "import requests\n",
    "import re\n",
    "from collections import OrderedDict\n",
    "import json\n",
    "import matplotlib.pyplot as plt\n",
    "import numpy as np\n",
    "from matplotlib import font_manager as fm\n",
    "fn = fm.FontProperties(fname=\"THEjunggt150.otf\")"
   ]
  },
  {
   "cell_type": "code",
   "execution_count": 49,
   "metadata": {
    "collapsed": false
   },
   "outputs": [],
   "source": [
    "# Current Temperature\n",
    "w_now = \"https://api2.sktelecom.com/weather/current/minutely?ver=1&lat=36.5038&lon=127.4166&appKey=84ccae67-8c6b-4269-8b4d-9131c5eae607\"\n",
    "resp = requests.get(w_now).json()\n",
    "NOW_Temp = float(resp[\"weather\"][\"minutely\"][0][\"temperature\"][\"tc\"])\n",
    "NOW_Time = resp[\"weather\"][\"minutely\"][0][\"timeObservation\"]"
   ]
  },
  {
   "cell_type": "code",
   "execution_count": 50,
   "metadata": {
    "collapsed": false
   },
   "outputs": [
    {
     "name": "stdout",
     "output_type": "stream",
     "text": [
      "Max:  [8, 8, 9, 10, 11, 8, 9, 11, 11] 9\n",
      "Min:  [-3, -3, -1, -3, -2, 1, -2, -1, 2] 9\n"
     ]
    }
   ],
   "source": [
    "# 10-Days Temperature Forecast\n",
    "weather10 = \"https://api2.sktelecom.com/weather/forecast/6days?ver=1&lat=36.5038&lon=127.4166&appKey=84ccae67-8c6b-4269-8b4d-9131c5eae607\"\n",
    "response = requests.get(weather10).json()\n",
    "result = response[\"weather\"][\"forecast6days\"][0][\"temperature\"]\n",
    "time0 = response[\"weather\"][\"forecast6days\"][0][\"timeRelease\"]\n",
    "\n",
    "# determinant (Max or Min)\n",
    "p=-1\n",
    "# 2D lists\n",
    "item=[[],[]] #Min&Max Temperature Lists\n",
    "ind=[[],[]]  #INDEX Lists\n",
    "\n",
    "# Sort the result values in order\n",
    "r = OrderedDict(sorted(result.items(), key=lambda t:t[0]))\n",
    "\n",
    "\n",
    "count=0 #count the number of elements\n",
    "\n",
    "for i in range(len(r)):\n",
    "    it = r.popitem()\n",
    "    pattern = re.compile(r'\\d+')\n",
    "    key = it[0]\n",
    "    search = pattern.search(key)\n",
    "    hour = int(search.group(0))\n",
    "    temp = int(it[1])\n",
    "    \n",
    "    # Max of Min determinant i.e \"tmin2day\" or \"tmax2day\"  \n",
    "    p = 0 if key[2] is 'i' else 1\n",
    "\n",
    "    if len(ind[p]) is 0:\n",
    "        ind[p].append(hour)\n",
    "        item[p].append(temp)\n",
    "    else:\n",
    "        j=0\n",
    "        while j<8 and hour > ind[p][j]:\n",
    "            j+=1\n",
    "        ind[p].insert(j, hour)\n",
    "        item[p].insert(j, temp)\n",
    "\n",
    "print(\"Max: \", item[1], len(item[1]))\n",
    "print(\"Min: \", item[0], len(item[0]))"
   ]
  },
  {
   "cell_type": "code",
   "execution_count": 51,
   "metadata": {
    "collapsed": false
   },
   "outputs": [
    {
     "name": "stdout",
     "output_type": "stream",
     "text": [
      "Index:  [4, 7, 10, 13, 16, 19, 22, 25, 28, 31, 34, 37, 40, 43, 46, 49, 52, 55, 58, 61, 64] 21\n",
      "Temp:  [1.0, 4.0, 1.0, -5.0, -7.0, -8.0, -8.0, -4.0, 4.0, 6.0, 3.0, -1.0, -2.0, -2.0, -2.0, 0.0, 5.0, 8.0, 6.0, 1.0, -2.0] 21\n"
     ]
    }
   ],
   "source": [
    "# 3-Days Temperature Forecast\n",
    "weather3 = \"https://api2.sktelecom.com/weather/forecast/3days?ver=1&lat=36.5038&lon=127.4166&appKey=84ccae67-8c6b-4269-8b4d-9131c5eae607\"\n",
    "response3 = requests.get(weather3).json()\n",
    "result3 = response3[\"weather\"][\"forecast3days\"][0][\"fcst3hour\"][\"temperature\"]\n",
    "time = response3[\"weather\"][\"forecast3days\"][0][\"timeRelease\"]\n",
    "\n",
    "item3=[] #Temperature List\n",
    "ind3=[] #INDEX List\n",
    "count=0 #count the number of elements\n",
    "\n",
    "for i in range(len(result3)):\n",
    "    it = result3.popitem()\n",
    "    \n",
    "    # KEY\n",
    "    key = it[0]\n",
    "    pattern = re.compile(r'\\d+')\n",
    "    search = pattern.search(key)\n",
    "    \n",
    "    # HOUR\n",
    "    hour = int(search.group(0))\n",
    "    \n",
    "    # if the VALUE is not an Empty String\n",
    "    if it[1] is not '':\n",
    "        temp = float(it[1])\n",
    "        # if the INDEX List is empty, just append the hour&temp to the correct list\n",
    "        if len(ind3) is 0:\n",
    "            ind3.append(hour)\n",
    "            item3.append(temp)\n",
    "            # don't increment count here. \n",
    "        # if the INDEX List is not empty, maneuver the sorted list to find the correct position(j)\n",
    "        else:\n",
    "            j=0\n",
    "            # this sorts everything, even if the returned json is unsorted\n",
    "            while hour > ind3[j]:\n",
    "                j+=1\n",
    "            # insert the hour/temp value at the right position\n",
    "            ind3.insert(j, hour)\n",
    "            item3.insert(j, temp)\n",
    "            count+=1 #start incrementing count from here.\n",
    "            \n",
    "    # if the Value is an Empty String, just skip\n",
    "    else:\n",
    "        continue\n",
    "\n",
    "print(\"Index: \", ind3, len(ind3))\n",
    "print(\"Temp: \", item3, len(item3))"
   ]
  },
  {
   "cell_type": "code",
   "execution_count": 58,
   "metadata": {
    "collapsed": false,
    "scrolled": true
   },
   "outputs": [
    {
     "name": "stderr",
     "output_type": "stream",
     "text": [
      "/Users/ethanseo/anaconda/lib/python3.6/site-packages/matplotlib/font_manager.py:1316: UserWarning: findfont: Font family ['THEJung110'] not found. Falling back to DejaVu Sans\n",
      "  (prop.get_family(), self.defaultFamily[fontext]))\n"
     ]
    }
   ],
   "source": [
    "# Draw Graph\n",
    "plt.figure(figsize=(10,10))\n",
    "\n",
    "# First Graph\n",
    "plt.subplot(211)\n",
    "plt.title('청주공장 향후 50 시간 예상 기온: <{0}>'.format(time), fontweight='bold', fontsize='x-large', fontproperties=fn)\n",
    "lowest = min(item3)\n",
    "plt.plot(ind3, item3, \"#617bfb\", label='3 day Min: ({0}\\u2103)'.format(lowest), linewidth=3)\n",
    "plt.legend(shadow=True)\n",
    "plt.xlabel(\"#시간 이후\", fontsize='large', fontweight='bold', fontproperties=fn)\n",
    "plt.ylabel(\"기온(\\u2103)\", fontsize='large', fontweight='bold', fontproperties=fn)\n",
    "plt.xlim(-6, ind3[count]) # x-axis min/max limits\n",
    "plt.xticks(np.arange(0, ind3[count]+6, 6), fontsize='large')\n",
    "plt.yticks(fontsize='large')\n",
    "plt.grid(linestyle='--')\n",
    "\n",
    "# Annotate \"NOW\"\n",
    "plt.plot(0, NOW_Temp, 'o', color='#ff4253')\n",
    "plt.text(-2, NOW_Temp-2, \"NOW\\n{0}\".format(NOW_Time[11:16]), color='#ff4253', fontweight='bold')\n",
    "\n",
    "# Second Graph\n",
    "plt.subplot(212)\n",
    "plt.title('청주공장 향후 10일 예상 기온: <{0}>'.format(time0), fontweight='bold', fontsize=50, fontproperties=fn)\n",
    "maximum = max(item[1])\n",
    "minimum = min(item[0])\n",
    "plt.plot(ind[1], item[1], '#f86586', label='Max({0}\\u2103)'.format(maximum), linewidth=3)\n",
    "plt.plot(ind[0], item[0], \"#617bfb\", label='Min({0}\\u2103)'.format(minimum), linewidth=3)\n",
    "plt.legend(shadow=True)\n",
    "plt.xlabel(\"#일 이후\", fontsize='large', fontweight='bold', fontproperties=fn)\n",
    "plt.ylabel(\"기온(\\u2103)\", fontsize='large', fontweight='bold', fontproperties=fn)\n",
    "plt.xticks(np.arange(2, 11), fontsize='large')\n",
    "plt.yticks(fontsize='large')\n",
    "\n",
    "plt.suptitle('정보 제공: SK 텔레콤 날씨 API', color='#fc5f10', fontproperties=fn)\n",
    "\n",
    "#padding\n",
    "plt.tight_layout(pad=4, w_pad=1, h_pad=2)\n",
    "\n",
    "plt.savefig('KOR_Forecast_{0}_{1}.png'.format(time[0:10], time[11:13]), dpi=100)\n",
    "# plt.show()"
   ]
  },
  {
   "cell_type": "code",
   "execution_count": 81,
   "metadata": {
    "collapsed": false
   },
   "outputs": [],
   "source": [
    "import datetime as dt\n",
    "\n",
    "tenDay=[]\n",
    "today=dt.date.today()\n",
    "deltaT = 3\n",
    "for i in range(8):\n",
    "    thisDay = today+dt.timedelta(deltaT+i)\n",
    "    whichDay = thisDay.weekday()\n",
    "    tenDay.append(str(thisDay)[5:])"
   ]
  },
  {
   "cell_type": "code",
   "execution_count": 82,
   "metadata": {
    "collapsed": false
   },
   "outputs": [
    {
     "data": {
      "text/plain": [
       "['02-24', '02-25', '02-26', '02-27', '02-28', '03-01', '03-02', '03-03']"
      ]
     },
     "execution_count": 82,
     "metadata": {},
     "output_type": "execute_result"
    }
   ],
   "source": [
    "tenDay"
   ]
  },
  {
   "cell_type": "code",
   "execution_count": null,
   "metadata": {
    "collapsed": true
   },
   "outputs": [],
   "source": []
  }
 ],
 "metadata": {
  "kernelspec": {
   "display_name": "Python 3",
   "language": "python",
   "name": "python3"
  },
  "language_info": {
   "codemirror_mode": {
    "name": "ipython",
    "version": 3
   },
   "file_extension": ".py",
   "mimetype": "text/x-python",
   "name": "python",
   "nbconvert_exporter": "python",
   "pygments_lexer": "ipython3",
   "version": "3.6.0"
  }
 },
 "nbformat": 4,
 "nbformat_minor": 2
}
