{
 "cells": [
  {
   "cell_type": "code",
   "execution_count": 193,
   "metadata": {
    "collapsed": false
   },
   "outputs": [],
   "source": [
    "import requests\n",
    "import re\n",
    "from collections import OrderedDict\n",
    "import json\n",
    "import matplotlib.pyplot as plt\n",
    "import numpy as np\n",
    "\n",
    "\n",
    "w=\"https://api2.sktelecom.com/weather/yesterday?version=1&lat=36.5038&lon=127.4166&isTimeRange=Y&appKey=84ccae67-8c6b-4269-8b4d-9131c5eae607\"\n",
    "rp = requests.get(w).json()\n",
    "Date=rp[\"weather\"][\"yesterday\"][0][\"day\"][\"timeRelease\"]\n",
    "temp=[]\n",
    "time=[]\n",
    "\n",
    "for i in range(24):\n",
    "    NOW_Temp = float(rp[\"weather\"][\"yesterday\"][0][\"day\"][\"hourly\"][i][\"temperature\"])\n",
    "    NOW_Time = rp[\"weather\"][\"yesterday\"][0][\"day\"][\"hourly\"][i][\"timeRelease\"]\n",
    "    temp.append(NOW_Temp)\n",
    "    time.append(int(NOW_Time[11:13]))\n",
    "\n",
    "time[23]= 24"
   ]
  },
  {
   "cell_type": "code",
   "execution_count": 194,
   "metadata": {
    "collapsed": false
   },
   "outputs": [
    {
     "name": "stdout",
     "output_type": "stream",
     "text": [
      "[-1.1, -2.4, -4.1, -5.1, -6.4, -6.6, -7.4, -6.2, -3.2, -2.1, -0.7, 0.0, 0.6, 1.2, 1.9, 1.3, -0.4, -1.6, -2.3, -2.7, -3.5, -3.6, -3.8, -3.9]\n",
      "[1, 2, 3, 4, 5, 6, 7, 8, 9, 10, 11, 12, 13, 14, 15, 16, 17, 18, 19, 20, 21, 22, 23, 24]\n"
     ]
    }
   ],
   "source": [
    "print(temp)"
   ]
  },
  {
   "cell_type": "code",
   "execution_count": 195,
   "metadata": {
    "collapsed": false
   },
   "outputs": [
    {
     "data": {
      "image/png": "[encoded data removed]",
      "text/plain": [
       "<matplotlib.figure.Figure at 0x114969320>"
      ]
     },
     "metadata": {},
     "output_type": "display_data"
    }
   ],
   "source": [
    "plt.plot(time, temp)\n",
    "plt.suptitle(\"Past Weather - \"+Date, fontweight='bold')\n",
    "plt.xlabel(\"Time(Hr)\", fontsize='large', fontweight='bold')\n",
    "plt.ylabel(\"Temperature(\\u2103)\", fontsize='large', fontweight='bold')\n",
    "plt.xticks(np.arange(0, 25, 3), fontsize='large')\n",
    "plt.xlim(-2, 26)\n",
    "plt.grid(True, linestyle='--')\n",
    "plt.savefig(Date+'.png')\n",
    "# plt.show()"
   ]
  },
  {
   "cell_type": "code",
   "execution_count": 196,
   "metadata": {
    "collapsed": false
   },
   "outputs": [],
   "source": [
    "'''The most recent date gets written at the very end. \n",
    "Read the date, and see if the file is not up-to-date, \n",
    "append the data in the correct format.'''\n",
    "\n",
    "from datetime import datetime as dt # \"datetime.datetime\" MUST have a different name, as \"datetime\" gets imported as well.\n",
    "import datetime # interpreter can't differentiate \"datetime.datetime\" and \"datetime\"\n",
    "\n",
    "today = dt.today()\n",
    "oneDay = datetime.timedelta(days=1)\n",
    "yesterday = today-oneDay\n",
    "\n",
    "f = open('pastWeather.txt', 'ab+') # Open file as \"append mode\" in \"byte form\". Plus sign(+) creates the file if not found in the directory. \n",
    "# Seek -10th character, probing from the end\n",
    "f.seek(-10,2)\n",
    "readDate = f.read(10).decode('utf-8')\n",
    "recentDate = dt.strptime(readDate, '%Y-%m-%d') # Convert String to datetime.datetime object\n",
    "\n",
    "output = '\\n'+str(temp)+'\\n'+Date\n",
    "\n",
    "if (yesterday - recentDate) > oneDay:\n",
    "    f.write(output.encode()) # Encode the output into \"byte form\" because the file was opened in the \"append - byte form\" (ab+)\n",
    "    f.close()\n",
    "    print(\"File Updated!\")\n",
    "else:\n",
    "    print(\"File is Up-To-Date :)\")"
   ]
  },
  {
   "cell_type": "code",
   "execution_count": 198,
   "metadata": {
    "collapsed": false
   },
   "outputs": [
    {
     "name": "stdout",
     "output_type": "stream",
     "text": [
      "File is Up-To-Date :)\n"
     ]
    }
   ],
   "source": []
  },
  {
   "cell_type": "code",
   "execution_count": null,
   "metadata": {
    "collapsed": true
   },
   "outputs": [],
   "source": [
    "\n"
   ]
  }
 ],
 "metadata": {
  "kernelspec": {
   "display_name": "Python 3",
   "language": "python",
   "name": "python3"
  },
  "language_info": {
   "codemirror_mode": {
    "name": "ipython",
    "version": 3
   },
   "file_extension": ".py",
   "mimetype": "text/x-python",
   "name": "python",
   "nbconvert_exporter": "python",
   "pygments_lexer": "ipython3",
   "version": "3.6.0"
  }
 },
 "nbformat": 4,
 "nbformat_minor": 2
}
